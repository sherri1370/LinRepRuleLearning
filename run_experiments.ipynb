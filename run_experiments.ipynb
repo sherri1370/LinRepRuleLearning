{
 "cells": [
  {
   "cell_type": "code",
   "execution_count": 1,
   "metadata": {},
   "outputs": [],
   "source": [
    "import methods\n",
    "import numpy as np"
   ]
  },
  {
   "cell_type": "code",
   "execution_count": 6,
   "metadata": {},
   "outputs": [],
   "source": [
    "dataset_name = 'diabetes'\n",
    "num_splits = 10\n",
    "max_num_rules = 10\n",
    "max_num_propos = 5\n",
    "max_num_nonzero_coef = 5\n",
    "num_restarts = 3\n",
    "epsilon_nzco = 0.02\n",
    "lambda_values_for_rule_weights = np.logspace(-4, 2, 7)"
   ]
  },
  {
   "cell_type": "code",
   "execution_count": null,
   "metadata": {},
   "outputs": [],
   "source": [
    "df_fj, df_fj_nd, time_fj, all_models_fj, _ = methods.fullyjoint_experiment(num_splits = num_splits, max_num_rules = max_num_rules, max_num_propos = max_num_propos, num_restarts = num_restarts, dataset_name = dataset_name)\n",
    "df_fs, time_fs, all_models_fs = methods.fullyjsequential_experiment(num_splits=num_splits, max_num_propos=max_num_propos, max_num_rules=max_num_rules, dataset_name=dataset_name, max_num_nonzero_coef=max_num_nonzero_coef, epsilon_nzco=epsilon_nzco)"
   ]
  }
 ],
 "metadata": {
  "kernelspec": {
   "display_name": "Python 3",
   "language": "python",
   "name": "python3"
  },
  "language_info": {
   "codemirror_mode": {
    "name": "ipython",
    "version": 3
   },
   "file_extension": ".py",
   "mimetype": "text/x-python",
   "name": "python",
   "nbconvert_exporter": "python",
   "pygments_lexer": "ipython3",
   "version": "3.10.2"
  }
 },
 "nbformat": 4,
 "nbformat_minor": 2
}
